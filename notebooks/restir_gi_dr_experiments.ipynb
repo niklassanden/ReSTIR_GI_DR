{
 "cells": [
  {
   "cell_type": "code",
   "execution_count": 1,
   "metadata": {},
   "outputs": [],
   "source": [
    "import mitsuba as mi\n",
    "import drjit as dr\n",
    "import numpy as np\n",
    "import matplotlib.pyplot as plt\n",
    "import os\n",
    "import json"
   ]
  },
  {
   "cell_type": "code",
   "execution_count": 2,
   "metadata": {},
   "outputs": [],
   "source": [
    "mi.set_variant('cuda_ad_rgb')"
   ]
  },
  {
   "cell_type": "code",
   "execution_count": 3,
   "metadata": {},
   "outputs": [],
   "source": [
    "output_dir_base = 'inverse-rendering'\n",
    "os.makedirs(output_dir_base, exist_ok=True)"
   ]
  },
  {
   "cell_type": "markdown",
   "metadata": {},
   "source": [
    "% Load scene and parameters"
   ]
  },
  {
   "cell_type": "code",
   "execution_count": 4,
   "metadata": {},
   "outputs": [],
   "source": [
    "scenes = [\n",
    "    {\n",
    "        'name': 'tire',\n",
    "        'path': '../scenes/tire/scene.xml',\n",
    "        'key': 'mat-tire.brdf_0.roughness.data',\n",
    "        'restir_spp': 1,\n",
    "        'mitsuba_spp': 1,\n",
    "        'time': 90e3,\n",
    "        'learning_rate': 0.005,\n",
    "        'restir_mcap': 16,\n",
    "        'integrator': 'restir_gi_dr',\n",
    "        'max_depth': 2\n",
    "    },\n",
    "    {\n",
    "        'name': 'ashtray',\n",
    "        'path': '../scenes/ashtray/scene.xml',\n",
    "        'key': 'mat-ashtray.brdf_0.anisotropic.data',\n",
    "        'restir_spp': 1,\n",
    "        'mitsuba_spp': 1,\n",
    "        'time': 30e3,\n",
    "        'learning_rate': 0.01,\n",
    "        'restir_mcap': 16,\n",
    "        'integrator': 'restir_gi_dr',\n",
    "        'max_depth': 2\n",
    "    },\n",
    "    {\n",
    "        'name': 'chalice',\n",
    "        'path': '../scenes/chalice/scene.xml',\n",
    "        'key': 'mat-chalice.brdf_0.roughness.data',\n",
    "        'restir_spp': 1,\n",
    "        'mitsuba_spp': 1,\n",
    "        'time': 30e3,\n",
    "        'learning_rate': 0.01,\n",
    "        'restir_mcap': 16,\n",
    "        'integrator': 'restir_gi_dr',\n",
    "        'max_depth': 2\n",
    "    },\n",
    "    {\n",
    "        'name': 'cbox',\n",
    "        'path': '../scenes/cornell-box/scene.xml',\n",
    "        'key': 'NewTallBoxBSDF.brdf_0.base_color.data',\n",
    "        'restir_spp': 1,\n",
    "        'mitsuba_spp': 1,\n",
    "        'time': 30e3,\n",
    "        'learning_rate': 0.1,\n",
    "        'restir_mcap': 16,\n",
    "        'integrator': 'restir_gi_dr',\n",
    "        'max_depth': 3\n",
    "    },\n",
    "    {\n",
    "        'name': 'staircase2',\n",
    "        'path': '../scenes/staircase2/scene.xml',\n",
    "        'key': 'FloorTilesBSDF.brdf_0.diffuse_reflectance.data',\n",
    "        'restir_spp': 1,\n",
    "        'mitsuba_spp': 1,\n",
    "        'time': 30e3,\n",
    "        'learning_rate': 0.1,\n",
    "        'restir_mcap': 16,\n",
    "        'integrator': 'restir_gi_dr',\n",
    "        'max_depth': 2\n",
    "    },\n",
    "]\n",
    "scene_info = scenes[0]"
   ]
  },
  {
   "cell_type": "code",
   "execution_count": 5,
   "metadata": {},
   "outputs": [],
   "source": [
    "render_spp = 512\n",
    "spp_forward = 32\n",
    "equal_time_iterations = 20"
   ]
  },
  {
   "cell_type": "code",
   "execution_count": 6,
   "metadata": {},
   "outputs": [],
   "source": [
    "scene_path, scene_name, key = scene_info['path'], scene_info['name'], scene_info['key']\n",
    "output_dir = os.path.join(output_dir_base, scene_name)\n",
    "os.makedirs(output_dir, exist_ok=True)"
   ]
  },
  {
   "cell_type": "code",
   "execution_count": 7,
   "metadata": {},
   "outputs": [],
   "source": [
    "def convert_to_lum(grad_tensor, extend_dim=False):\n",
    "    if len(grad_tensor.shape) != 3:\n",
    "        return grad_tensor\n",
    "    if grad_tensor.shape[2] == 1:\n",
    "        if extend_dim:\n",
    "            return grad_tensor\n",
    "        return grad_tensor[:,:,0]\n",
    "    grad_color = dr.unravel(mi.Color3f, dr.ravel(grad_tensor[...,:3]))\n",
    "    grad_lum = mi.luminance(grad_color)\n",
    "    shape = (grad_tensor.shape[0], grad_tensor.shape[1], 1) if extend_dim else \\\n",
    "        (grad_tensor.shape[0], grad_tensor.shape[1])\n",
    "    return mi.TensorXf(grad_lum, shape=shape)"
   ]
  },
  {
   "cell_type": "code",
   "execution_count": 8,
   "metadata": {},
   "outputs": [
    {
     "name": "stdout",
     "output_type": "stream",
     "text": [
      "-------------------- Running tire -------------------------\n"
     ]
    }
   ],
   "source": [
    "print(f'-------------------- Running {scene_name} -------------------------')"
   ]
  },
  {
   "cell_type": "code",
   "execution_count": 9,
   "metadata": {},
   "outputs": [],
   "source": [
    "scene = mi.load_file(scene_path, integrator=scene_info['integrator'], max_depth=scene_info['max_depth'])\n",
    "is_base_color = 'base_color' in key\n",
    "if 'learning_rate' in scene_info:\n",
    "    learning_rate = scene_info['learning_rate']\n",
    "elif is_base_color:\n",
    "    learning_rate = 0.1\n",
    "else:\n",
    "    learning_rate = 0.01"
   ]
  },
  {
   "cell_type": "code",
   "execution_count": 10,
   "metadata": {},
   "outputs": [],
   "source": [
    "image_gt = mi.render(scene, seed=0, spp=render_spp);\n",
    "mi.util.write_bitmap(os.path.join(output_dir, 'render_gt.exr'), image_gt)"
   ]
  },
  {
   "cell_type": "code",
   "execution_count": 11,
   "metadata": {},
   "outputs": [],
   "source": [
    "params = mi.traverse(scene)\n",
    "param_ref = mi.TensorXf(params[key])\n",
    "param_shape = np.array(params[key].shape)"
   ]
  },
  {
   "cell_type": "code",
   "execution_count": 12,
   "metadata": {},
   "outputs": [],
   "source": [
    "param_initial = np.full(param_shape.tolist(), 0.5)\n",
    "if param_shape[2] == 4:\n",
    "    param_initial[:,:,3] = 1\n",
    "    param_ref[:,:,3] = 1\n",
    "params[key] = mi.TensorXf(param_initial)"
   ]
  },
  {
   "cell_type": "code",
   "execution_count": 13,
   "metadata": {},
   "outputs": [],
   "source": [
    "params.update();"
   ]
  },
  {
   "cell_type": "code",
   "execution_count": 14,
   "metadata": {},
   "outputs": [],
   "source": [
    "image_initial = mi.render(scene, seed=0, spp=render_spp)\n",
    "mi.util.write_bitmap(os.path.join(output_dir, 'render_initial.exr'), image_initial)"
   ]
  },
  {
   "cell_type": "code",
   "execution_count": 15,
   "metadata": {},
   "outputs": [],
   "source": [
    "opt = mi.ad.Adam(lr=learning_rate)\n",
    "opt[key] = params[key]\n",
    "params.update(opt);\n",
    "scene.integrator().param_name = key"
   ]
  },
  {
   "cell_type": "code",
   "execution_count": 16,
   "metadata": {},
   "outputs": [],
   "source": [
    "dr.set_flag(dr.JitFlag.KernelHistory, 1)"
   ]
  },
  {
   "cell_type": "code",
   "execution_count": 17,
   "metadata": {},
   "outputs": [],
   "source": [
    "def get_elapsed_execution_time():\n",
    "    hist = dr.kernel_history()\n",
    "    elapsed_time = 0\n",
    "    for entry in hist:\n",
    "        elapsed_time += entry['execution_time']\n",
    "    return elapsed_time"
   ]
  },
  {
   "cell_type": "code",
   "execution_count": 18,
   "metadata": {},
   "outputs": [],
   "source": [
    "def relse(a, b):\n",
    "    return dr.sqr(a - b) / (dr.sqr(b) + 1e-2)"
   ]
  },
  {
   "cell_type": "code",
   "execution_count": 19,
   "metadata": {},
   "outputs": [],
   "source": [
    "def relmse(a, b):\n",
    "    return dr.mean(relse(a, b))"
   ]
  },
  {
   "cell_type": "code",
   "execution_count": 20,
   "metadata": {},
   "outputs": [],
   "source": [
    "def mae(a, b):\n",
    "    return dr.mean(dr.abs(a - b))"
   ]
  },
  {
   "cell_type": "code",
   "execution_count": 21,
   "metadata": {},
   "outputs": [],
   "source": [
    "def derivative_err(img, ref):\n",
    "    return dr.sum(relse(img, ref)) / dr.count(dr.neq(ref.array, 0))"
   ]
  },
  {
   "cell_type": "code",
   "execution_count": 22,
   "metadata": {},
   "outputs": [],
   "source": [
    "def loss_func(image):\n",
    "    return relmse(image, image_gt)"
   ]
  },
  {
   "cell_type": "code",
   "execution_count": 23,
   "metadata": {},
   "outputs": [],
   "source": [
    "params[key] = mi.TensorXf(param_initial)\n",
    "params.update();"
   ]
  },
  {
   "cell_type": "code",
   "execution_count": 24,
   "metadata": {},
   "outputs": [],
   "source": [
    "opt = mi.ad.Adam(lr=learning_rate)\n",
    "opt[key] = params[key]\n",
    "params.update(opt);"
   ]
  },
  {
   "cell_type": "code",
   "execution_count": 25,
   "metadata": {},
   "outputs": [],
   "source": [
    "def get_equal_time_optimization(use_ref, n_time, spp_forward, spp_grad, M_cap=None):\n",
    "    np.random.seed(0)\n",
    "\n",
    "    # Reset initial params\n",
    "    opt.reset(key)\n",
    "    opt[key] = mi.TensorXf(param_initial)\n",
    "    params.update(opt);\n",
    "    scene.integrator().use_ref = use_ref\n",
    "    scene.integrator().use_positivization = True\n",
    "    scene.integrator().enable_temporal_reuse = True\n",
    "    scene.integrator().M_cap = M_cap\n",
    "    if scene_info['integrator'] != 'prb':\n",
    "        scene.integrator().reset()\n",
    "    it = 0\n",
    "    total_time = 0\n",
    "    times = []\n",
    "    losses = []\n",
    "    while True:\n",
    "        # Perform a (noisy) differentiable rendering of the scene\n",
    "        image = mi.render(scene, params, spp=spp_forward,\n",
    "            spp_grad=spp_grad,\n",
    "            seed=np.random.randint(2**31))\n",
    "\n",
    "        # Evaluate the objective function from the current rendered image\n",
    "        loss = loss_func(image)\n",
    "\n",
    "        # Backpropagate through the rendering process\n",
    "        dr.backward(loss)\n",
    "\n",
    "        # Optimizer: take a gradient descent step\n",
    "        opt.step()\n",
    "\n",
    "        # Post-process the optimized parameters to ensure legal color values.\n",
    "        opt[key] = dr.clamp(opt[key], 0.0, 1.0)\n",
    "\n",
    "        # Update the scene state to the new optimized values\n",
    "        params.update(opt)\n",
    "        total_time += get_elapsed_execution_time()\n",
    "        if total_time > n_time:\n",
    "            break\n",
    "        times.append(total_time / 1e3)\n",
    "        losses.append(loss[0])\n",
    "        print(f'-- Iteration {it} -- Loss {losses[-1]:.6f} --')\n",
    "        it += 1\n",
    "    return times, losses, mi.TensorXf(params[key])"
   ]
  },
  {
   "cell_type": "markdown",
   "metadata": {},
   "source": [
    "% Run equal time optimization"
   ]
  },
  {
   "cell_type": "code",
   "execution_count": 26,
   "metadata": {},
   "outputs": [
    {
     "name": "stdout",
     "output_type": "stream",
     "text": [
      "-- Iteration 0 -- Loss 0.483657 --\n",
      "-- Iteration 1 -- Loss 0.499673 --\n",
      "-- Iteration 2 -- Loss 0.490459 --\n",
      "-- Iteration 3 -- Loss 0.486899 --\n",
      "-- Iteration 4 -- Loss 0.502941 --\n",
      "-- Iteration 5 -- Loss 0.499158 --\n",
      "-- Iteration 6 -- Loss 0.506300 --\n",
      "-- Iteration 7 -- Loss 0.514266 --\n",
      "-- Iteration 8 -- Loss 0.519205 --\n",
      "-- Iteration 9 -- Loss 0.517024 --\n",
      "-- Iteration 10 -- Loss 0.511733 --\n",
      "-- Iteration 11 -- Loss 0.535694 --\n",
      "-- Iteration 12 -- Loss 0.536260 --\n",
      "-- Iteration 13 -- Loss 0.528982 --\n",
      "-- Iteration 14 -- Loss 0.546437 --\n",
      "-- Iteration 15 -- Loss 0.542863 --\n",
      "-- Iteration 16 -- Loss 0.552198 --\n",
      "-- Iteration 17 -- Loss 0.543134 --\n",
      "-- Iteration 18 -- Loss 0.557171 --\n",
      "-- Iteration 19 -- Loss 0.550022 --\n",
      "-- Iteration 20 -- Loss 0.554559 --\n",
      "-- Iteration 21 -- Loss 0.562041 --\n",
      "-- Iteration 22 -- Loss 0.554351 --\n",
      "-- Iteration 23 -- Loss 0.574317 --\n",
      "-- Iteration 24 -- Loss 0.561331 --\n",
      "-- Iteration 25 -- Loss 0.568406 --\n",
      "-- Iteration 26 -- Loss 0.590538 --\n",
      "-- Iteration 27 -- Loss 0.567130 --\n",
      "-- Iteration 28 -- Loss 0.579496 --\n",
      "-- Iteration 29 -- Loss 0.580376 --\n",
      "-- Iteration 30 -- Loss 0.582102 --\n",
      "-- Iteration 31 -- Loss 0.600582 --\n",
      "-- Iteration 32 -- Loss 0.588497 --\n",
      "-- Iteration 33 -- Loss 0.605422 --\n",
      "-- Iteration 34 -- Loss 0.609000 --\n",
      "-- Iteration 35 -- Loss 0.621793 --\n",
      "-- Iteration 36 -- Loss 0.619161 --\n",
      "-- Iteration 37 -- Loss 0.600045 --\n",
      "-- Iteration 38 -- Loss 0.625654 --\n",
      "-- Iteration 39 -- Loss 0.598723 --\n",
      "-- Iteration 40 -- Loss 0.627553 --\n",
      "-- Iteration 41 -- Loss 0.618037 --\n",
      "-- Iteration 42 -- Loss 0.594044 --\n",
      "-- Iteration 43 -- Loss 0.601847 --\n",
      "-- Iteration 44 -- Loss 0.647449 --\n",
      "-- Iteration 45 -- Loss 0.644014 --\n",
      "-- Iteration 46 -- Loss 0.616894 --\n",
      "-- Iteration 47 -- Loss 0.614883 --\n",
      "-- Iteration 48 -- Loss 0.604807 --\n",
      "-- Iteration 49 -- Loss 0.615601 --\n",
      "-- Iteration 50 -- Loss 0.638382 --\n",
      "-- Iteration 51 -- Loss 0.651807 --\n",
      "-- Iteration 52 -- Loss 0.612153 --\n",
      "-- Iteration 53 -- Loss 0.666445 --\n",
      "-- Iteration 54 -- Loss 0.629481 --\n",
      "-- Iteration 55 -- Loss 0.658145 --\n",
      "-- Iteration 56 -- Loss 0.645441 --\n",
      "-- Iteration 57 -- Loss 0.627552 --\n",
      "-- Iteration 58 -- Loss 0.626675 --\n",
      "-- Iteration 59 -- Loss 0.622003 --\n",
      "-- Iteration 60 -- Loss 0.641780 --\n",
      "-- Iteration 61 -- Loss 0.649897 --\n",
      "-- Iteration 62 -- Loss 0.645735 --\n",
      "-- Iteration 63 -- Loss 0.667087 --\n",
      "-- Iteration 64 -- Loss 0.634294 --\n",
      "-- Iteration 65 -- Loss 0.598175 --\n",
      "-- Iteration 66 -- Loss 0.621655 --\n",
      "-- Iteration 67 -- Loss 0.677081 --\n",
      "-- Iteration 68 -- Loss 0.586388 --\n",
      "-- Iteration 69 -- Loss 0.658975 --\n",
      "-- Iteration 70 -- Loss 0.606076 --\n",
      "-- Iteration 71 -- Loss 0.612684 --\n",
      "-- Iteration 72 -- Loss 0.637399 --\n",
      "-- Iteration 73 -- Loss 0.594374 --\n",
      "-- Iteration 74 -- Loss 0.594255 --\n",
      "-- Iteration 75 -- Loss 0.527575 --\n",
      "-- Iteration 76 -- Loss 0.586516 --\n",
      "-- Iteration 77 -- Loss 0.547771 --\n",
      "-- Iteration 78 -- Loss 0.559908 --\n",
      "-- Iteration 79 -- Loss 0.597274 --\n",
      "-- Iteration 80 -- Loss 0.584754 --\n",
      "-- Iteration 81 -- Loss 0.556104 --\n",
      "-- Iteration 82 -- Loss 0.583406 --\n",
      "-- Iteration 83 -- Loss 0.522099 --\n",
      "-- Iteration 84 -- Loss 0.540460 --\n",
      "-- Iteration 85 -- Loss 0.543108 --\n",
      "-- Iteration 86 -- Loss 0.490009 --\n",
      "-- Iteration 87 -- Loss 0.482697 --\n",
      "-- Iteration 88 -- Loss 0.506823 --\n",
      "-- Iteration 89 -- Loss 0.528219 --\n",
      "-- Iteration 90 -- Loss 0.492261 --\n",
      "-- Iteration 91 -- Loss 0.505391 --\n",
      "-- Iteration 92 -- Loss 0.517207 --\n",
      "-- Iteration 93 -- Loss 0.502995 --\n",
      "-- Iteration 94 -- Loss 0.511058 --\n",
      "-- Iteration 95 -- Loss 0.486004 --\n",
      "-- Iteration 96 -- Loss 0.500684 --\n",
      "-- Iteration 97 -- Loss 0.507876 --\n",
      "-- Iteration 98 -- Loss 0.485114 --\n",
      "-- Iteration 99 -- Loss 0.467922 --\n",
      "-- Iteration 100 -- Loss 0.515947 --\n",
      "-- Iteration 101 -- Loss 0.473243 --\n",
      "-- Iteration 102 -- Loss 0.485410 --\n",
      "-- Iteration 103 -- Loss 0.475164 --\n",
      "-- Iteration 104 -- Loss 0.435364 --\n",
      "-- Iteration 105 -- Loss 0.459297 --\n",
      "-- Iteration 106 -- Loss 0.448005 --\n",
      "-- Iteration 107 -- Loss 0.479406 --\n",
      "-- Iteration 108 -- Loss 0.454489 --\n",
      "-- Iteration 109 -- Loss 0.464818 --\n",
      "-- Iteration 110 -- Loss 0.470446 --\n",
      "-- Iteration 111 -- Loss 0.455720 --\n",
      "-- Iteration 112 -- Loss 0.456630 --\n",
      "-- Iteration 113 -- Loss 0.414380 --\n",
      "-- Iteration 114 -- Loss 0.411285 --\n",
      "-- Iteration 115 -- Loss 0.437924 --\n",
      "-- Iteration 116 -- Loss 0.436244 --\n",
      "-- Iteration 117 -- Loss 0.426910 --\n",
      "-- Iteration 118 -- Loss 0.473600 --\n",
      "-- Iteration 119 -- Loss 0.427924 --\n",
      "-- Iteration 120 -- Loss 0.449832 --\n",
      "-- Iteration 121 -- Loss 0.408027 --\n",
      "-- Iteration 122 -- Loss 0.401703 --\n",
      "-- Iteration 123 -- Loss 0.402862 --\n",
      "-- Iteration 124 -- Loss 0.394177 --\n",
      "-- Iteration 125 -- Loss 0.452010 --\n",
      "-- Iteration 126 -- Loss 0.434869 --\n",
      "-- Iteration 127 -- Loss 0.378791 --\n",
      "-- Iteration 128 -- Loss 0.446378 --\n",
      "-- Iteration 129 -- Loss 0.432296 --\n",
      "-- Iteration 130 -- Loss 0.380467 --\n",
      "-- Iteration 131 -- Loss 0.420732 --\n",
      "-- Iteration 132 -- Loss 0.390546 --\n",
      "-- Iteration 133 -- Loss 0.355913 --\n",
      "-- Iteration 134 -- Loss 0.358871 --\n",
      "-- Iteration 135 -- Loss 0.343331 --\n",
      "-- Iteration 136 -- Loss 0.392219 --\n",
      "-- Iteration 137 -- Loss 0.388670 --\n",
      "-- Iteration 138 -- Loss 0.386370 --\n",
      "-- Iteration 139 -- Loss 0.383847 --\n",
      "-- Iteration 140 -- Loss 0.358670 --\n",
      "-- Iteration 141 -- Loss 0.383949 --\n",
      "-- Iteration 142 -- Loss 0.340567 --\n",
      "-- Iteration 143 -- Loss 0.365021 --\n",
      "-- Iteration 144 -- Loss 0.361809 --\n",
      "-- Iteration 145 -- Loss 0.364288 --\n",
      "-- Iteration 146 -- Loss 0.343252 --\n",
      "-- Iteration 147 -- Loss 0.406842 --\n",
      "-- Iteration 148 -- Loss 0.337209 --\n",
      "-- Iteration 149 -- Loss 0.394031 --\n",
      "-- Iteration 150 -- Loss 0.357780 --\n",
      "-- Iteration 151 -- Loss 0.392707 --\n",
      "-- Iteration 152 -- Loss 0.445905 --\n",
      "-- Iteration 153 -- Loss 0.373413 --\n",
      "-- Iteration 154 -- Loss 0.323227 --\n",
      "-- Iteration 155 -- Loss 0.329166 --\n",
      "-- Iteration 156 -- Loss 0.375841 --\n",
      "-- Iteration 157 -- Loss 0.384572 --\n",
      "-- Iteration 158 -- Loss 0.352910 --\n",
      "-- Iteration 159 -- Loss 0.386762 --\n",
      "-- Iteration 160 -- Loss 0.361342 --\n",
      "-- Iteration 161 -- Loss 0.348689 --\n",
      "-- Iteration 162 -- Loss 0.339465 --\n",
      "-- Iteration 163 -- Loss 0.340930 --\n",
      "-- Iteration 164 -- Loss 0.353542 --\n",
      "-- Iteration 165 -- Loss 0.334728 --\n",
      "-- Iteration 166 -- Loss 0.332638 --\n",
      "-- Iteration 167 -- Loss 0.328731 --\n",
      "-- Iteration 168 -- Loss 0.337240 --\n",
      "-- Iteration 169 -- Loss 0.344689 --\n",
      "-- Iteration 170 -- Loss 0.322532 --\n",
      "-- Iteration 171 -- Loss 0.325199 --\n",
      "-- Iteration 172 -- Loss 0.323512 --\n",
      "-- Iteration 173 -- Loss 0.333596 --\n",
      "-- Iteration 174 -- Loss 0.325917 --\n",
      "-- Iteration 175 -- Loss 0.329466 --\n",
      "-- Iteration 176 -- Loss 0.337104 --\n",
      "-- Iteration 177 -- Loss 0.299566 --\n",
      "-- Iteration 178 -- Loss 0.316111 --\n",
      "-- Iteration 179 -- Loss 0.366061 --\n",
      "-- Iteration 180 -- Loss 0.361283 --\n",
      "-- Iteration 181 -- Loss 0.334214 --\n",
      "-- Iteration 182 -- Loss 0.309182 --\n",
      "-- Iteration 183 -- Loss 0.371225 --\n",
      "-- Iteration 184 -- Loss 0.348427 --\n",
      "-- Iteration 185 -- Loss 0.316157 --\n",
      "-- Iteration 186 -- Loss 0.318122 --\n",
      "-- Iteration 187 -- Loss 0.288355 --\n",
      "-- Iteration 188 -- Loss 0.275632 --\n",
      "-- Iteration 189 -- Loss 0.309350 --\n",
      "-- Iteration 190 -- Loss 0.285434 --\n",
      "-- Iteration 191 -- Loss 0.300416 --\n",
      "-- Iteration 192 -- Loss 0.330517 --\n",
      "-- Iteration 193 -- Loss 0.309526 --\n",
      "-- Iteration 194 -- Loss 0.326820 --\n"
     ]
    }
   ],
   "source": [
    "restir_times, restir_losses, restir_param = \\\n",
    "    get_equal_time_optimization(False, scene_info['time'], spp_forward, scene_info['restir_spp'], M_cap=scene_info.get('restir_mcap', 16))"
   ]
  },
  {
   "cell_type": "code",
   "execution_count": 27,
   "metadata": {},
   "outputs": [
    {
     "name": "stdout",
     "output_type": "stream",
     "text": [
      "-- Iteration 0 -- Loss 0.483657 --\n",
      "-- Iteration 1 -- Loss 0.499670 --\n",
      "-- Iteration 2 -- Loss 0.490397 --\n",
      "-- Iteration 3 -- Loss 0.486341 --\n",
      "-- Iteration 4 -- Loss 0.501011 --\n",
      "-- Iteration 5 -- Loss 0.497250 --\n",
      "-- Iteration 6 -- Loss 0.501355 --\n",
      "-- Iteration 7 -- Loss 0.509231 --\n",
      "-- Iteration 8 -- Loss 0.512031 --\n",
      "-- Iteration 9 -- Loss 0.509266 --\n",
      "-- Iteration 10 -- Loss 0.502940 --\n",
      "-- Iteration 11 -- Loss 0.524225 --\n",
      "-- Iteration 12 -- Loss 0.524351 --\n",
      "-- Iteration 13 -- Loss 0.514397 --\n",
      "-- Iteration 14 -- Loss 0.528359 --\n",
      "-- Iteration 15 -- Loss 0.525666 --\n",
      "-- Iteration 16 -- Loss 0.530219 --\n",
      "-- Iteration 17 -- Loss 0.522631 --\n",
      "-- Iteration 18 -- Loss 0.534031 --\n",
      "-- Iteration 19 -- Loss 0.525928 --\n",
      "-- Iteration 20 -- Loss 0.528167 --\n",
      "-- Iteration 21 -- Loss 0.533880 --\n",
      "-- Iteration 22 -- Loss 0.526870 --\n",
      "-- Iteration 23 -- Loss 0.540372 --\n",
      "-- Iteration 24 -- Loss 0.528997 --\n",
      "-- Iteration 25 -- Loss 0.532396 --\n",
      "-- Iteration 26 -- Loss 0.541805 --\n",
      "-- Iteration 27 -- Loss 0.533364 --\n",
      "-- Iteration 28 -- Loss 0.539999 --\n",
      "-- Iteration 29 -- Loss 0.532501 --\n",
      "-- Iteration 30 -- Loss 0.538101 --\n",
      "-- Iteration 31 -- Loss 0.545431 --\n",
      "-- Iteration 32 -- Loss 0.538057 --\n",
      "-- Iteration 33 -- Loss 0.545779 --\n",
      "-- Iteration 34 -- Loss 0.546696 --\n",
      "-- Iteration 35 -- Loss 0.553521 --\n",
      "-- Iteration 36 -- Loss 0.551155 --\n",
      "-- Iteration 37 -- Loss 0.542459 --\n",
      "-- Iteration 38 -- Loss 0.547816 --\n",
      "-- Iteration 39 -- Loss 0.538889 --\n",
      "-- Iteration 40 -- Loss 0.555876 --\n",
      "-- Iteration 41 -- Loss 0.548134 --\n",
      "-- Iteration 42 -- Loss 0.536713 --\n",
      "-- Iteration 43 -- Loss 0.536080 --\n",
      "-- Iteration 44 -- Loss 0.555769 --\n",
      "-- Iteration 45 -- Loss 0.567894 --\n",
      "-- Iteration 46 -- Loss 0.542575 --\n",
      "-- Iteration 47 -- Loss 0.545814 --\n",
      "-- Iteration 48 -- Loss 0.540754 --\n",
      "-- Iteration 49 -- Loss 0.556598 --\n",
      "-- Iteration 50 -- Loss 0.560352 --\n",
      "-- Iteration 51 -- Loss 0.562488 --\n",
      "-- Iteration 52 -- Loss 0.544363 --\n",
      "-- Iteration 53 -- Loss 0.567461 --\n",
      "-- Iteration 54 -- Loss 0.556441 --\n",
      "-- Iteration 55 -- Loss 0.553685 --\n",
      "-- Iteration 56 -- Loss 0.563540 --\n",
      "-- Iteration 57 -- Loss 0.554537 --\n",
      "-- Iteration 58 -- Loss 0.546944 --\n",
      "-- Iteration 59 -- Loss 0.543417 --\n",
      "-- Iteration 60 -- Loss 0.558279 --\n",
      "-- Iteration 61 -- Loss 0.565864 --\n",
      "-- Iteration 62 -- Loss 0.553893 --\n",
      "-- Iteration 63 -- Loss 0.571383 --\n",
      "-- Iteration 64 -- Loss 0.554003 --\n",
      "-- Iteration 65 -- Loss 0.545074 --\n",
      "-- Iteration 66 -- Loss 0.555205 --\n",
      "-- Iteration 67 -- Loss 0.584785 --\n",
      "-- Iteration 68 -- Loss 0.554977 --\n",
      "-- Iteration 69 -- Loss 0.574970 --\n",
      "-- Iteration 70 -- Loss 0.553760 --\n",
      "-- Iteration 71 -- Loss 0.552834 --\n",
      "-- Iteration 72 -- Loss 0.569086 --\n",
      "-- Iteration 73 -- Loss 0.551699 --\n",
      "-- Iteration 74 -- Loss 0.562684 --\n",
      "-- Iteration 75 -- Loss 0.551929 --\n",
      "-- Iteration 76 -- Loss 0.559002 --\n",
      "-- Iteration 77 -- Loss 0.549617 --\n",
      "-- Iteration 78 -- Loss 0.550169 --\n",
      "-- Iteration 79 -- Loss 0.571591 --\n",
      "-- Iteration 80 -- Loss 0.563260 --\n",
      "-- Iteration 81 -- Loss 0.563529 --\n",
      "-- Iteration 82 -- Loss 0.542017 --\n",
      "-- Iteration 83 -- Loss 0.554592 --\n",
      "-- Iteration 84 -- Loss 0.560707 --\n",
      "-- Iteration 85 -- Loss 0.541576 --\n",
      "-- Iteration 86 -- Loss 0.553759 --\n",
      "-- Iteration 87 -- Loss 0.535644 --\n",
      "-- Iteration 88 -- Loss 0.552503 --\n",
      "-- Iteration 89 -- Loss 0.555852 --\n",
      "-- Iteration 90 -- Loss 0.545499 --\n",
      "-- Iteration 91 -- Loss 0.551681 --\n",
      "-- Iteration 92 -- Loss 0.556888 --\n",
      "-- Iteration 93 -- Loss 0.553779 --\n",
      "-- Iteration 94 -- Loss 0.544973 --\n",
      "-- Iteration 95 -- Loss 0.550522 --\n",
      "-- Iteration 96 -- Loss 0.552451 --\n",
      "-- Iteration 97 -- Loss 0.561641 --\n",
      "-- Iteration 98 -- Loss 0.538921 --\n",
      "-- Iteration 99 -- Loss 0.548971 --\n",
      "-- Iteration 100 -- Loss 0.580693 --\n",
      "-- Iteration 101 -- Loss 0.525085 --\n",
      "-- Iteration 102 -- Loss 0.544890 --\n",
      "-- Iteration 103 -- Loss 0.547504 --\n",
      "-- Iteration 104 -- Loss 0.548086 --\n",
      "-- Iteration 105 -- Loss 0.539763 --\n",
      "-- Iteration 106 -- Loss 0.547777 --\n",
      "-- Iteration 107 -- Loss 0.567118 --\n",
      "-- Iteration 108 -- Loss 0.563009 --\n",
      "-- Iteration 109 -- Loss 0.555399 --\n",
      "-- Iteration 110 -- Loss 0.565341 --\n",
      "-- Iteration 111 -- Loss 0.559098 --\n",
      "-- Iteration 112 -- Loss 0.553821 --\n",
      "-- Iteration 113 -- Loss 0.552229 --\n",
      "-- Iteration 114 -- Loss 0.538529 --\n",
      "-- Iteration 115 -- Loss 0.539916 --\n",
      "-- Iteration 116 -- Loss 0.565597 --\n",
      "-- Iteration 117 -- Loss 0.559750 --\n",
      "-- Iteration 118 -- Loss 0.552722 --\n",
      "-- Iteration 119 -- Loss 0.574632 --\n",
      "-- Iteration 120 -- Loss 0.544080 --\n",
      "-- Iteration 121 -- Loss 0.530492 --\n",
      "-- Iteration 122 -- Loss 0.543857 --\n",
      "-- Iteration 123 -- Loss 0.526796 --\n",
      "-- Iteration 124 -- Loss 0.533934 --\n",
      "-- Iteration 125 -- Loss 0.549365 --\n",
      "-- Iteration 126 -- Loss 0.535592 --\n",
      "-- Iteration 127 -- Loss 0.541848 --\n",
      "-- Iteration 128 -- Loss 0.551012 --\n",
      "-- Iteration 129 -- Loss 0.551659 --\n",
      "-- Iteration 130 -- Loss 0.524138 --\n",
      "-- Iteration 131 -- Loss 0.554900 --\n",
      "-- Iteration 132 -- Loss 0.536398 --\n",
      "-- Iteration 133 -- Loss 0.519202 --\n",
      "-- Iteration 134 -- Loss 0.519941 --\n",
      "-- Iteration 135 -- Loss 0.503621 --\n",
      "-- Iteration 136 -- Loss 0.545079 --\n",
      "-- Iteration 137 -- Loss 0.522334 --\n",
      "-- Iteration 138 -- Loss 0.565346 --\n",
      "-- Iteration 139 -- Loss 0.539972 --\n",
      "-- Iteration 140 -- Loss 0.536352 --\n",
      "-- Iteration 141 -- Loss 0.531126 --\n",
      "-- Iteration 142 -- Loss 0.539342 --\n",
      "-- Iteration 143 -- Loss 0.529675 --\n",
      "-- Iteration 144 -- Loss 0.538521 --\n",
      "-- Iteration 145 -- Loss 0.517974 --\n",
      "-- Iteration 146 -- Loss 0.522832 --\n",
      "-- Iteration 147 -- Loss 0.536929 --\n",
      "-- Iteration 148 -- Loss 0.514604 --\n",
      "-- Iteration 149 -- Loss 0.540164 --\n",
      "-- Iteration 150 -- Loss 0.527690 --\n",
      "-- Iteration 151 -- Loss 0.525342 --\n",
      "-- Iteration 152 -- Loss 0.541806 --\n",
      "-- Iteration 153 -- Loss 0.522355 --\n",
      "-- Iteration 154 -- Loss 0.514426 --\n",
      "-- Iteration 155 -- Loss 0.529616 --\n",
      "-- Iteration 156 -- Loss 0.553834 --\n",
      "-- Iteration 157 -- Loss 0.526473 --\n",
      "-- Iteration 158 -- Loss 0.520663 --\n",
      "-- Iteration 159 -- Loss 0.539694 --\n",
      "-- Iteration 160 -- Loss 0.525157 --\n",
      "-- Iteration 161 -- Loss 0.530350 --\n",
      "-- Iteration 162 -- Loss 0.520918 --\n",
      "-- Iteration 163 -- Loss 0.531308 --\n",
      "-- Iteration 164 -- Loss 0.534497 --\n",
      "-- Iteration 165 -- Loss 0.501674 --\n",
      "-- Iteration 166 -- Loss 0.496111 --\n",
      "-- Iteration 167 -- Loss 0.503361 --\n",
      "-- Iteration 168 -- Loss 0.509275 --\n",
      "-- Iteration 169 -- Loss 0.549273 --\n",
      "-- Iteration 170 -- Loss 0.486224 --\n",
      "-- Iteration 171 -- Loss 0.525915 --\n",
      "-- Iteration 172 -- Loss 0.506247 --\n",
      "-- Iteration 173 -- Loss 0.546453 --\n",
      "-- Iteration 174 -- Loss 0.527820 --\n",
      "-- Iteration 175 -- Loss 0.551790 --\n",
      "-- Iteration 176 -- Loss 0.515945 --\n",
      "-- Iteration 177 -- Loss 0.493979 --\n",
      "-- Iteration 178 -- Loss 0.480833 --\n",
      "-- Iteration 179 -- Loss 0.513243 --\n",
      "-- Iteration 180 -- Loss 0.526624 --\n",
      "-- Iteration 181 -- Loss 0.495467 --\n",
      "-- Iteration 182 -- Loss 0.504327 --\n",
      "-- Iteration 183 -- Loss 0.536988 --\n",
      "-- Iteration 184 -- Loss 0.521630 --\n",
      "-- Iteration 185 -- Loss 0.521383 --\n",
      "-- Iteration 186 -- Loss 0.486193 --\n",
      "-- Iteration 187 -- Loss 0.502666 --\n",
      "-- Iteration 188 -- Loss 0.484470 --\n",
      "-- Iteration 189 -- Loss 0.511056 --\n",
      "-- Iteration 190 -- Loss 0.484064 --\n",
      "-- Iteration 191 -- Loss 0.486636 --\n",
      "-- Iteration 192 -- Loss 0.527329 --\n",
      "-- Iteration 193 -- Loss 0.498006 --\n",
      "-- Iteration 194 -- Loss 0.489570 --\n",
      "-- Iteration 195 -- Loss 0.482028 --\n",
      "-- Iteration 196 -- Loss 0.499202 --\n",
      "-- Iteration 197 -- Loss 0.494687 --\n",
      "-- Iteration 198 -- Loss 0.464690 --\n",
      "-- Iteration 199 -- Loss 0.521086 --\n",
      "-- Iteration 200 -- Loss 0.472144 --\n",
      "-- Iteration 201 -- Loss 0.475045 --\n",
      "-- Iteration 202 -- Loss 0.463545 --\n",
      "-- Iteration 203 -- Loss 0.484223 --\n",
      "-- Iteration 204 -- Loss 0.498655 --\n",
      "-- Iteration 205 -- Loss 0.469041 --\n",
      "-- Iteration 206 -- Loss 0.465634 --\n",
      "-- Iteration 207 -- Loss 0.488411 --\n",
      "-- Iteration 208 -- Loss 0.474116 --\n",
      "-- Iteration 209 -- Loss 0.470912 --\n",
      "-- Iteration 210 -- Loss 0.487724 --\n",
      "-- Iteration 211 -- Loss 0.497059 --\n",
      "-- Iteration 212 -- Loss 0.511985 --\n",
      "-- Iteration 213 -- Loss 0.476611 --\n",
      "-- Iteration 214 -- Loss 0.492479 --\n",
      "-- Iteration 215 -- Loss 0.464075 --\n",
      "-- Iteration 216 -- Loss 0.470018 --\n",
      "-- Iteration 217 -- Loss 0.466221 --\n",
      "-- Iteration 218 -- Loss 0.479144 --\n",
      "-- Iteration 219 -- Loss 0.487980 --\n",
      "-- Iteration 220 -- Loss 0.448485 --\n"
     ]
    }
   ],
   "source": [
    "mitsuba_times, mitsuba_losses, mitsuba_param = \\\n",
    "    get_equal_time_optimization(True, scene_info['time'], spp_forward, scene_info['mitsuba_spp'])"
   ]
  },
  {
   "cell_type": "markdown",
   "metadata": {},
   "source": [
    "% Output equal time optimization"
   ]
  },
  {
   "cell_type": "code",
   "execution_count": 28,
   "metadata": {},
   "outputs": [
    {
     "data": {
      "text/plain": [
       "<Figure size 640x480 with 0 Axes>"
      ]
     },
     "metadata": {},
     "output_type": "display_data"
    },
    {
     "data": {
      "image/png": "[encoded data removed]",
      "text/plain": [
       "<Figure size 1000x400 with 1 Axes>"
      ]
     },
     "metadata": {},
     "output_type": "display_data"
    }
   ],
   "source": [
    "plt.clf()\n",
    "plt.figure(figsize=(10, 4), dpi=100, constrained_layout=True);\n",
    "plt.plot(mitsuba_times, mitsuba_losses, 'm-o', label='Mitsuba 3', linewidth=6.0, markersize=4.0, mfc='white')\n",
    "plt.plot(restir_times, restir_losses, 'c-o', label='Ours', linewidth=6.0, markersize=4.0, mfc='white')\n",
    "plt.xlabel('Time (s)');\n",
    "plt.ylabel('Error');\n",
    "plt.yscale('log')\n",
    "plt.legend();\n",
    "plt.savefig(os.path.join(output_dir, 'inv_convergence.pdf'), bbox_inches='tight', pad_inches=0.0)"
   ]
  },
  {
   "cell_type": "markdown",
   "metadata": {},
   "source": [
    "% Output equal time final image"
   ]
  },
  {
   "cell_type": "code",
   "execution_count": 29,
   "metadata": {},
   "outputs": [],
   "source": [
    "params[key] = mitsuba_param\n",
    "params.update();\n",
    "mitsuba_image = mi.render(scene, seed=0, spp=render_spp);\n",
    "mi.util.write_bitmap(os.path.join(output_dir, 'render_final_mitsuba.exr'), mitsuba_image)"
   ]
  },
  {
   "cell_type": "code",
   "execution_count": 30,
   "metadata": {},
   "outputs": [],
   "source": [
    "params[key] = restir_param\n",
    "params.update();\n",
    "restir_image = mi.render(scene, seed=0, spp=render_spp);\n",
    "mi.util.write_bitmap(os.path.join(output_dir, 'render_final_restir.exr'), restir_image)"
   ]
  },
  {
   "cell_type": "markdown",
   "metadata": {},
   "source": [
    "%"
   ]
  },
  {
   "cell_type": "code",
   "execution_count": 31,
   "metadata": {},
   "outputs": [],
   "source": [
    "restir_img_err = loss_func(restir_image)[0]\n",
    "mitsuba_img_err = loss_func(mitsuba_image)[0]"
   ]
  },
  {
   "cell_type": "code",
   "execution_count": 32,
   "metadata": {},
   "outputs": [
    {
     "name": "stdout",
     "output_type": "stream",
     "text": [
      "ReSTIR, error: 6.732071e-02 (0.35640x)\n",
      "Mitsuba, error: 1.888920e-01 (1.00x)\n",
      "\n"
     ]
    }
   ],
   "source": [
    "print(\n",
    "    f'ReSTIR, error: {restir_img_err:.6e} ({restir_img_err/mitsuba_img_err:.5f}x)\\n'\n",
    "    f'Mitsuba, error: {mitsuba_img_err:.6e} (1.00x)\\n'\n",
    ")"
   ]
  },
  {
   "cell_type": "code",
   "execution_count": 33,
   "metadata": {},
   "outputs": [],
   "source": [
    "with open(os.path.join(output_dir, 'inv_convergence.json'), 'w') as f:\n",
    "    json_str = json.dumps({\n",
    "        'mitsuba_times': mitsuba_times,\n",
    "        'mitsuba_losses': mitsuba_losses,\n",
    "        'restir_times': restir_times,\n",
    "        'restir_losses': restir_losses,\n",
    "        'mitsuba_img_err': mitsuba_img_err,\n",
    "        'restir_img_err': restir_img_err,\n",
    "        'img_err_reduction': restir_img_err/mitsuba_img_err,\n",
    "    }, indent=2)\n",
    "    f.write(json_str)"
   ]
  },
  {
   "cell_type": "code",
   "execution_count": null,
   "metadata": {},
   "outputs": [],
   "source": []
  }
 ],
 "metadata": {
  "kernelspec": {
   "display_name": "python_env",
   "language": "python",
   "name": "python3"
  },
  "language_info": {
   "codemirror_mode": {
    "name": "ipython",
    "version": 3
   },
   "file_extension": ".py",
   "mimetype": "text/x-python",
   "name": "python",
   "nbconvert_exporter": "python",
   "pygments_lexer": "ipython3",
   "version": "3.8.10"
  }
 },
 "nbformat": 4,
 "nbformat_minor": 2
}
